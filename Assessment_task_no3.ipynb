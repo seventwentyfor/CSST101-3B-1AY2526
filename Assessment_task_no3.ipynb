{
  "nbformat": 4,
  "nbformat_minor": 0,
  "metadata": {
    "colab": {
      "provenance": [],
      "authorship_tag": "ABX9TyPYtAu3JwGymeZuR1hamxEh",
      "include_colab_link": true
    },
    "kernelspec": {
      "name": "python3",
      "display_name": "Python 3"
    },
    "language_info": {
      "name": "python"
    }
  },
  "cells": [
    {
      "cell_type": "markdown",
      "metadata": {
        "id": "view-in-github",
        "colab_type": "text"
      },
      "source": [
        "<a href=\"https://colab.research.google.com/github/seventwentyfor/CSST101-3B-1AY2526/blob/main/Assessment_task_no3.ipynb\" target=\"_parent\"><img src=\"https://colab.research.google.com/assets/colab-badge.svg\" alt=\"Open In Colab\"/></a>"
      ]
    },
    {
      "cell_type": "markdown",
      "source": [
        "Part1-Unification"
      ],
      "metadata": {
        "id": "FeqGR3ejJZtE"
      }
    },
    {
      "cell_type": "code",
      "source": [
        "rule_predicate = \"Eligible\"\n",
        "rule_variable = \"x\"\n",
        "\n",
        "\n",
        "fact_predicate = \"Eligible\"\n",
        "fact_constant = \"Ana\"\n",
        "\n",
        "\n",
        "if rule_predicate == fact_predicate:\n",
        "    substitution = {rule_variable: fact_constant}\n",
        "    print(\"Unification successful!\")\n",
        "    print(\"Substitution set:\", substitution)\n",
        "else:\n",
        "    print(\"Cannot unify. Predicates do not match.\")"
      ],
      "metadata": {
        "colab": {
          "base_uri": "https://localhost:8080/"
        },
        "id": "4miQr2MRMWvR",
        "outputId": "e951a4af-6468-4a6b-c1ae-f02ab1035d98"
      },
      "execution_count": 8,
      "outputs": [
        {
          "output_type": "stream",
          "name": "stdout",
          "text": [
            "Unification successful!\n",
            "Substitution set: {'x': 'Ana'}\n"
          ]
        }
      ]
    },
    {
      "cell_type": "markdown",
      "source": [
        "Part2-Forward chaining"
      ],
      "metadata": {
        "id": "ZKaeYa7gMu3A"
      }
    },
    {
      "cell_type": "code",
      "source": [
        "students = {\n",
        "    \"Juan\":   {\"HighGrades\": True,  \"StudentLeader\": True,  \"Applied\": True},\n",
        "    \"Maria\":  {\"HighGrades\": True,  \"StudentLeader\": False, \"Applied\": False},\n",
        "    \"Carlos\": {\"HighGrades\": False, \"StudentLeader\": True,  \"Applied\": False},\n",
        "    \"Ana\":    {\"HighGrades\": True,  \"StudentLeader\": True,  \"Applied\": True}\n",
        "}\n",
        "\n",
        "\n",
        "eligible = {s for s,f in students.items() if f[\"HighGrades\"] and f[\"StudentLeader\"] and f[\"Applied\"]}\n",
        "scholarship = eligible.copy()\n",
        "financial = scholarship.copy()\n",
        "\n",
        "\n",
        "for s in students:\n",
        "    derived = []\n",
        "    if s in eligible:\n",
        "        derived.append(\"Eligible\")\n",
        "    if s in scholarship:\n",
        "        derived.append(\"Scholarship\")\n",
        "    if s in financial:\n",
        "        derived.append(\"FinancialSupport\")\n",
        "    print(f\"{s}: {', '.join(derived) if derived else 'No new derived facts'}\")\n",
        "\n",
        "\n",
        "for s in [\"Maria\",\"Carlos\"]:\n",
        "    f = students[s]\n",
        "    reasons = [r for r,b in [\n",
        "        (\"No HighGrades\", not f[\"HighGrades\"]),\n",
        "        (\"Not StudentLeader\", not f[\"StudentLeader\"]),\n",
        "        (\"Did not apply\", not f[\"Applied\"])\n",
        "    ] if b]\n",
        "    print(f\"{s} not eligible because:\", \", \".join(reasons))"
      ],
      "metadata": {
        "colab": {
          "base_uri": "https://localhost:8080/"
        },
        "id": "2QQ_Uq3XM6wv",
        "outputId": "6f274fbf-93ef-425b-f15a-1688fb40559a"
      },
      "execution_count": 5,
      "outputs": [
        {
          "output_type": "stream",
          "name": "stdout",
          "text": [
            "Juan: Eligible, Scholarship, FinancialSupport\n",
            "Maria: No new derived facts\n",
            "Carlos: No new derived facts\n",
            "Ana: Eligible, Scholarship, FinancialSupport\n",
            "Maria not eligible because: Not StudentLeader, Did not apply\n",
            "Carlos not eligible because: No HighGrades, Did not apply\n"
          ]
        }
      ]
    },
    {
      "cell_type": "markdown",
      "source": [
        "Part3-Backward chaining"
      ],
      "metadata": {
        "id": "R9ddESszNjyn"
      }
    },
    {
      "cell_type": "code",
      "source": [
        "students = {\n",
        "    \"Juan\":   {\"HighGrades\": True,  \"StudentLeader\": True,  \"Applied\": True},\n",
        "    \"Maria\":  {\"HighGrades\": True,  \"StudentLeader\": False, \"Applied\": False},\n",
        "    \"Carlos\": {\"HighGrades\": False, \"StudentLeader\": True,  \"Applied\": False},\n",
        "    \"Ana\":    {\"HighGrades\": True,  \"StudentLeader\": True,  \"Applied\": True}\n",
        "}\n",
        "\n",
        "\n",
        "def eligible(x):\n",
        "    s = students[x]\n",
        "    return s[\"HighGrades\"] and s[\"StudentLeader\"] and s[\"Applied\"]\n",
        "\n",
        "def scholarship(x):\n",
        "    return eligible(x)\n",
        "def financial_support(x):\n",
        "    return scholarship(x)\n",
        "\n",
        "\n",
        "goals = [(\"Scholarship\",\"Maria\"), (\"FinancialSupport\",\"Ana\")]\n",
        "\n",
        "for g, name in goals:\n",
        "    if g == \"Scholarship\":\n",
        "        print(f\"Goal: Scholarship({name})\")\n",
        "        print(\" Check if Eligible first...\")\n",
        "        print(\"  Eligible:\", eligible(name))\n",
        "        print(\"  Scholarship:\", scholarship(name))\n",
        "    elif g == \"FinancialSupport\":\n",
        "        print(f\"\\nGoal: FinancialSupport({name})\")\n",
        "        print(\" Check if Scholarship first...\")\n",
        "        print(\"  Scholarship:\", scholarship(name))\n",
        "        print(\"  FinancialSupport:\", financial_support(name))"
      ],
      "metadata": {
        "colab": {
          "base_uri": "https://localhost:8080/"
        },
        "id": "--f6z6NjNqOw",
        "outputId": "d5c5b302-917e-4798-abbc-a6d498c00c7e"
      },
      "execution_count": 7,
      "outputs": [
        {
          "output_type": "stream",
          "name": "stdout",
          "text": [
            "Goal: Scholarship(Maria)\n",
            " Check if Eligible first...\n",
            "  Eligible: False\n",
            "  Scholarship: False\n",
            "\n",
            "Goal: FinancialSupport(Ana)\n",
            " Check if Scholarship first...\n",
            "  Scholarship: True\n",
            "  FinancialSupport: True\n"
          ]
        }
      ]
    },
    {
      "cell_type": "markdown",
      "source": [
        "***Reasoning***"
      ],
      "metadata": {
        "id": "BB3zTLrWOcpx"
      }
    },
    {
      "cell_type": "markdown",
      "source": [
        "***Goal 1: Scholarship(Maria)***\n",
        "\n",
        "To get a scholarship, Maria must be eligible.\n",
        "\n",
        "Eligibility requires HighGrades + Leader + Applied.\n",
        "\n",
        "Maria has HighGrades but did not apply and is not a leader.\n",
        "\n",
        "Therefore, she is not eligible → no scholarship.\n",
        "\n",
        "**Goal 2: FinancialSupport(Ana)** *italicized text*\n",
        "\n",
        "To get financial support, Ana must have a scholarship.\n",
        "\n",
        "Scholarship requires eligibility.\n",
        "\n",
        "Ana has HighGrades, is a Leader, and Applied, so she is eligible → scholarship\n",
        "\n",
        "→ financial support."
      ],
      "metadata": {
        "id": "Im_XE9xVPYEY"
      }
    },
    {
      "cell_type": "markdown",
      "source": [
        "Part4-Truth table + student check"
      ],
      "metadata": {
        "id": "enS7R0BsRZkB"
      }
    },
    {
      "cell_type": "markdown",
      "source": [
        "![image.png](data:image/png;base64,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)"
      ],
      "metadata": {
        "id": "UTfkydaaVL3U"
      }
    },
    {
      "cell_type": "markdown",
      "source": [
        "Part5-Reflection"
      ],
      "metadata": {
        "id": "obmKeb0BXh-M"
      }
    },
    {
      "cell_type": "markdown",
      "source": [
        "Logical reasoning is important because it helps AI and people make decisions step by step using clear rules. It avoids guessing and makes sure the conclusion is fair and supported by facts. In real life, this is useful in situations like scholarships, where decisions must be just and consistent. It also shows us how the result was reached, which makes the process more understandable and trustworthy."
      ],
      "metadata": {
        "id": "YmcA6c4RXrZK"
      }
    }
  ]
}